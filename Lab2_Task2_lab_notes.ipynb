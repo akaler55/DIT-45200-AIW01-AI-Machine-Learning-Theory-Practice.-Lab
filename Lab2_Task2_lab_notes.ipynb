{
  "nbformat": 4,
  "nbformat_minor": 0,
  "metadata": {
    "colab": {
      "provenance": [],
      "mount_file_id": "1NDZ-uRTkbGDyRNzJLwGUaNHIghCxRPV4",
      "authorship_tag": "ABX9TyP1nFG6gzCgb0WQhEmRYDfS",
      "include_colab_link": true
    },
    "kernelspec": {
      "name": "python3",
      "display_name": "Python 3"
    },
    "language_info": {
      "name": "python"
    }
  },
  "cells": [
    {
      "cell_type": "markdown",
      "metadata": {
        "id": "view-in-github",
        "colab_type": "text"
      },
      "source": [
        "<a href=\"https://colab.research.google.com/github/akaler55/DIT-45200-AIW01-AI-Machine-Learning-Theory-Practice.-Lab/blob/main/Lab2_Task2_lab_notes.ipynb\" target=\"_parent\"><img src=\"https://colab.research.google.com/assets/colab-badge.svg\" alt=\"Open In Colab\"/></a>"
      ]
    },
    {
      "cell_type": "markdown",
      "source": [
        "#Task2 : Part A"
      ],
      "metadata": {
        "id": "I1ASuSGuwnAO"
      }
    },
    {
      "cell_type": "code",
      "execution_count": 14,
      "metadata": {
        "id": "jrdbkpJ7e6bU"
      },
      "outputs": [],
      "source": [
        "import glob\n",
        "import pandas as pd"
      ]
    },
    {
      "cell_type": "code",
      "source": [
        "main_df = 0\n",
        "df_final = pd.DataFrame()\n",
        "\n",
        "for file in glob.glob(\"/content/drive/MyDrive/IoT_Data/*\"):\n",
        "  #Path of File\n",
        "  print(\"Path to file : \"+file+\"\\n\")\n",
        "  # Extracting Filename\n",
        "  filename = str(file.split(\"/\")[-1])\n",
        "  print(\"Extracting Filenam from path : \"+filename+\"\\n\")\n",
        "  \n",
        "  df = pd.read_csv(file)\n",
        "  df['label'] = filename\n",
        "  print(\"\\nShape of dataframe read : \"+str(df.shape))\n",
        "\n",
        "  # Creating main Dataframe\n",
        "  if main_df == 0:\n",
        "    df_final = df.copy()\n",
        "    main_df = 1\n",
        "  else:\n",
        "    df_final = pd.concat([df_final,df])\n",
        "  print(\"Df_final shape after concatenation: \"+str(df_final.shape)+\"\\n\")\n",
        "\n",
        "  print(\"\\n\")\n",
        "#df.head()"
      ],
      "metadata": {
        "colab": {
          "base_uri": "https://localhost:8080/"
        },
        "id": "fiXD2YgnpO8j",
        "outputId": "314f1d54-ebd5-4ac2-9ef0-aae7f9788912"
      },
      "execution_count": 22,
      "outputs": [
        {
          "output_type": "stream",
          "name": "stdout",
          "text": [
            "Path to file : /content/drive/MyDrive/IoT_Data/1.benign.csv\n",
            "\n",
            "Extracting Filenam from path : 1.benign.csv\n",
            "\n",
            "\n",
            "Shape of dataframe read : (49548, 116)\n",
            "Df_final shape after concatenation: (49548, 116)\n",
            "\n",
            "\n",
            "\n",
            "Path to file : /content/drive/MyDrive/IoT_Data/1.gafgyt.combo.csv\n",
            "\n",
            "Extracting Filenam from path : 1.gafgyt.combo.csv\n",
            "\n",
            "\n",
            "Shape of dataframe read : (59718, 116)\n",
            "Df_final shape after concatenation: (109266, 116)\n",
            "\n",
            "\n",
            "\n",
            "Path to file : /content/drive/MyDrive/IoT_Data/1.gafgyt.junk.csv\n",
            "\n",
            "Extracting Filenam from path : 1.gafgyt.junk.csv\n",
            "\n",
            "\n",
            "Shape of dataframe read : (29068, 116)\n",
            "Df_final shape after concatenation: (138334, 116)\n",
            "\n",
            "\n",
            "\n",
            "Path to file : /content/drive/MyDrive/IoT_Data/1.gafgyt.scan.csv\n",
            "\n",
            "Extracting Filenam from path : 1.gafgyt.scan.csv\n",
            "\n",
            "\n",
            "Shape of dataframe read : (29849, 116)\n",
            "Df_final shape after concatenation: (168183, 116)\n",
            "\n",
            "\n",
            "\n",
            "Path to file : /content/drive/MyDrive/IoT_Data/1.gafgyt.tcp.csv\n",
            "\n",
            "Extracting Filenam from path : 1.gafgyt.tcp.csv\n",
            "\n",
            "\n",
            "Shape of dataframe read : (92141, 116)\n",
            "Df_final shape after concatenation: (260324, 116)\n",
            "\n",
            "\n",
            "\n",
            "Path to file : /content/drive/MyDrive/IoT_Data/1.gafgyt.udp.csv\n",
            "\n",
            "Extracting Filenam from path : 1.gafgyt.udp.csv\n",
            "\n",
            "\n",
            "Shape of dataframe read : (105874, 116)\n",
            "Df_final shape after concatenation: (366198, 116)\n",
            "\n",
            "\n",
            "\n",
            "Path to file : /content/drive/MyDrive/IoT_Data/1.mirai.ack.csv\n",
            "\n",
            "Extracting Filenam from path : 1.mirai.ack.csv\n",
            "\n",
            "\n",
            "Shape of dataframe read : (102195, 116)\n",
            "Df_final shape after concatenation: (468393, 116)\n",
            "\n",
            "\n",
            "\n",
            "Path to file : /content/drive/MyDrive/IoT_Data/1.mirai.scan.csv\n",
            "\n",
            "Extracting Filenam from path : 1.mirai.scan.csv\n",
            "\n",
            "\n",
            "Shape of dataframe read : (107685, 116)\n",
            "Df_final shape after concatenation: (576078, 116)\n",
            "\n",
            "\n",
            "\n",
            "Path to file : /content/drive/MyDrive/IoT_Data/1.mirai.syn.csv\n",
            "\n",
            "Extracting Filenam from path : 1.mirai.syn.csv\n",
            "\n",
            "\n",
            "Shape of dataframe read : (122573, 116)\n",
            "Df_final shape after concatenation: (698651, 116)\n",
            "\n",
            "\n",
            "\n",
            "Path to file : /content/drive/MyDrive/IoT_Data/1.mirai.udp.csv\n",
            "\n",
            "Extracting Filenam from path : 1.mirai.udp.csv\n",
            "\n",
            "\n",
            "Shape of dataframe read : (237665, 116)\n",
            "Df_final shape after concatenation: (936316, 116)\n",
            "\n",
            "\n",
            "\n",
            "Path to file : /content/drive/MyDrive/IoT_Data/1.mirai.udpplain.csv\n",
            "\n",
            "Extracting Filenam from path : 1.mirai.udpplain.csv\n",
            "\n",
            "\n",
            "Shape of dataframe read : (81982, 116)\n",
            "Df_final shape after concatenation: (1018298, 116)\n",
            "\n",
            "\n",
            "\n"
          ]
        }
      ]
    },
    {
      "cell_type": "code",
      "source": [
        "df.label.unique()\n",
        "df.shape"
      ],
      "metadata": {
        "colab": {
          "base_uri": "https://localhost:8080/"
        },
        "id": "IwbhF0-lp8qW",
        "outputId": "8bb5fd00-e770-4947-db15-65caff8a5e7c"
      },
      "execution_count": 18,
      "outputs": [
        {
          "output_type": "execute_result",
          "data": {
            "text/plain": [
              "(81982, 116)"
            ]
          },
          "metadata": {},
          "execution_count": 18
        }
      ]
    }
  ]
}